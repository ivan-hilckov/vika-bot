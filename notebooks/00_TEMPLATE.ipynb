{
 "cells": [
  {
   "cell_type": "markdown",
   "metadata": {},
   "source": [
    "# OpenAI API Template\n",
    "\n",
    "Simple template for OpenAI API experiments with cost tracking.\n",
    "\n",
    "## Features:\n",
    "\n",
    "- 🤖 OpenAI API integration\n",
    "- 📊 Token usage statistics\n",
    "- 💰 Real-time cost calculation in USD\n",
    "- 🔧 Easy configuration and experimentation\n",
    "\n",
    "## Quick Start:\n",
    "\n",
    "1. Make sure your `.env` file has `OPENAI_API_KEY`\n",
    "2. Install dependencies: `uv sync`\n",
    "3. Select \"Vika Bot (Python 3.13)\" kernel in Jupyter\n",
    "4. Run all cells\n",
    "5. Change the question and experiment!\n",
    "\n",
    "The template will show you:\n",
    "\n",
    "- Response from OpenAI\n",
    "- Token usage (prompt/completion/total)\n",
    "- **Cost breakdown in USD** (prompt cost + completion cost + total)\n"
   ]
  },
  {
   "cell_type": "code",
   "execution_count": null,
   "metadata": {},
   "outputs": [
    {
     "name": "stdout",
     "output_type": "stream",
     "text": [
      "Model: gpt-4o-mini\n",
      "Max tokens: 1000\n",
      "Temperature: 0.7\n",
      "PROMPT: Why is the sky blue?\n"
     ]
    }
   ],
   "source": [
    "# Import libraries\n",
    "import os\n",
    "from openai import OpenAI\n",
    "from dotenv import load_dotenv\n",
    "from tokencost import calculate_prompt_cost, calculate_completion_cost\n",
    "from IPython.display import display, Markdown\n",
    "\n",
    "# Load environment variables\n",
    "load_dotenv()\n",
    "\n",
    "# Configuration\n",
    "MODEL = os.getenv(\"DEFAULT_MODEL\", \"gpt-4o-mini\")\n",
    "MAX_TOKENS = int(os.getenv(\"MAX_TOKENS\", 1000))\n",
    "TEMPERATURE = float(os.getenv(\"TEMPERATURE\", 0.7))\n",
    "\n",
    "# Create OpenAI client\n",
    "client = OpenAI()\n",
    "\n",
    "# Your question/prompt\n",
    "PROMPT = \"2+2=?\"\n",
    "\n",
    "print(f\"Model: {MODEL}\")\n",
    "print(f\"Max tokens: {MAX_TOKENS}\")\n",
    "print(f\"Temperature: {TEMPERATURE}\")\n",
    "print(f\"PROMPT: {PROMPT}\")"
   ]
  },
  {
   "cell_type": "code",
   "execution_count": 10,
   "metadata": {},
   "outputs": [
    {
     "name": "stdout",
     "output_type": "stream",
     "text": [
      "🤖 OpenAI Response: \n"
     ]
    },
    {
     "data": {
      "text/plain": [
       "ChatCompletion(id='chatcmpl-C43dRf04PD2Y30QJn9I8lasGFwkpl', choices=[Choice(finish_reason='stop', index=0, logprobs=None, message=ChatCompletionMessage(content=\"The sky appears blue primarily due to a phenomenon called Rayleigh scattering. Sunlight, or white light, is made up of different colors, each with varying wavelengths. When sunlight enters the Earth's atmosphere, it interacts with molecules and small particles in the air.\\n\\nBlue light has a shorter wavelength compared to other colors like red and yellow. Because of this shorter wavelength, blue light is scattered more effectively in all directions by the gases and particles in the atmosphere. This scattered blue light is what we see when we look up at the sky.\\n\\nDuring sunrise and sunset, the sun is lower in the sky, and its light passes through a thicker layer of the atmosphere. This means that more of the shorter blue wavelengths are scattered out of the line of sight, allowing the longer wavelengths like red and orange to dominate, which is why the sky can appear red or orange at those times.\", refusal=None, role='assistant', annotations=[], audio=None, function_call=None, tool_calls=None))], created=1755083321, model='gpt-4o-mini-2024-07-18', object='chat.completion', service_tier='default', system_fingerprint='fp_34a54ae93c', usage=CompletionUsage(completion_tokens=174, prompt_tokens=13, total_tokens=187, completion_tokens_details=CompletionTokensDetails(accepted_prediction_tokens=0, audio_tokens=0, reasoning_tokens=0, rejected_prediction_tokens=0), prompt_tokens_details=PromptTokensDetails(audio_tokens=0, cached_tokens=0)))"
      ]
     },
     "metadata": {},
     "output_type": "display_data"
    },
    {
     "name": "stdout",
     "output_type": "stream",
     "text": [
      "🤖 OpenAI Answer: \n"
     ]
    },
    {
     "data": {
      "text/markdown": [
       "The sky appears blue primarily due to a phenomenon called Rayleigh scattering. Sunlight, or white light, is made up of different colors, each with varying wavelengths. When sunlight enters the Earth's atmosphere, it interacts with molecules and small particles in the air.\n",
       "\n",
       "Blue light has a shorter wavelength compared to other colors like red and yellow. Because of this shorter wavelength, blue light is scattered more effectively in all directions by the gases and particles in the atmosphere. This scattered blue light is what we see when we look up at the sky.\n",
       "\n",
       "During sunrise and sunset, the sun is lower in the sky, and its light passes through a thicker layer of the atmosphere. This means that more of the shorter blue wavelengths are scattered out of the line of sight, allowing the longer wavelengths like red and orange to dominate, which is why the sky can appear red or orange at those times."
      ],
      "text/plain": [
       "<IPython.core.display.Markdown object>"
      ]
     },
     "metadata": {},
     "output_type": "display_data"
    },
    {
     "name": "stderr",
     "output_type": "stream",
     "text": [
      "Warning: gpt-4o may update over time. Returning num tokens assuming gpt-4o-2024-05-13.\n"
     ]
    },
    {
     "name": "stdout",
     "output_type": "stream",
     "text": [
      "Total tokens: 187\n",
      "Total cost (USD): $0.000106\n"
     ]
    }
   ],
   "source": [
    "# Make request to OpenAI\n",
    "try:\n",
    "    messages = [{\"role\": \"user\", \"content\": PROMPT}]\n",
    "    response = client.chat.completions.create(\n",
    "        model=MODEL,\n",
    "        messages=messages,\n",
    "        max_tokens=MAX_TOKENS,\n",
    "        temperature=TEMPERATURE,\n",
    "    )\n",
    "\n",
    "    # Get the response text\n",
    "    answer = response.choices[0].message.content\n",
    "\n",
    "    print(\"🤖 OpenAI Response: \")\n",
    "    display(response)\n",
    "\n",
    "    print(\"🤖 OpenAI Answer: \")\n",
    "    display(Markdown(answer))\n",
    "\n",
    "    if response.usage:\n",
    "        print(f\"Total tokens: {response.usage.total_tokens}\")\n",
    "\n",
    "        try:\n",
    "            prompt_cost = calculate_prompt_cost(messages, MODEL)\n",
    "            completion_cost = calculate_completion_cost(answer, MODEL)\n",
    "            total_cost = prompt_cost + completion_cost\n",
    "\n",
    "            print(f\"Total cost (USD): ${total_cost:.6f}\")\n",
    "        except Exception as cost_error:\n",
    "            print(f\"Could not calculate cost: {cost_error}\")\n",
    "\n",
    "\n",
    "except Exception as e:\n",
    "    print(f\"❌ Error: {e}\")\n",
    "    print(\"Make sure your OPENAI_API_KEY is set in .env file\")\n"
   ]
  }
 ],
 "metadata": {
  "kernelspec": {
   "display_name": "Vika Bot (Python 3.13)",
   "language": "python",
   "name": "vika-bot-py313"
  },
  "language_info": {
   "file_extension": ".py",
   "mimetype": "text/x-python",
   "name": "python",
   "version": "3.13.3"
  }
 },
 "nbformat": 4,
 "nbformat_minor": 4
}
