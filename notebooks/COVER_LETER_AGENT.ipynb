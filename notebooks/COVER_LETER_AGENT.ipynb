{
 "cells": [
  {
   "cell_type": "markdown",
   "metadata": {},
   "source": [
    "## Quick Start:\n",
    "\n",
    "1. Make sure your `.env` file has `OPENAI_API_KEY`\n",
    "2. Install dependencies: `uv sync`\n",
    "3. Select \"Vika Bot (Python 3.13)\" kernel in Jupyter\n",
    "4. Run all cells\n",
    "5. Change the question and experiment!\n",
    "\n",
    "The template will show you:\n",
    "\n",
    "- Response from OpenAI\n",
    "- Token usage (prompt/completion/total)\n",
    "- **Cost breakdown in USD** (prompt cost + completion cost + total)\n"
   ]
  },
  {
   "cell_type": "code",
   "execution_count": 1,
   "metadata": {},
   "outputs": [
    {
     "name": "stdout",
     "output_type": "stream",
     "text": [
      "Model: gpt-4o-mini\n",
      "Max tokens: 1000\n",
      "Temperature: 0.7\n"
     ]
    }
   ],
   "source": [
    "# Import libraries\n",
    "import os\n",
    "from dotenv import load_dotenv\n",
    "from tokencost import calculate_prompt_cost, calculate_completion_cost\n",
    "from IPython.display import display, Markdown\n",
    "from agents import Agent, Runner, SQLiteSession, ModelSettings\n",
    "\n",
    "load_dotenv()\n",
    "\n",
    "MODEL = os.getenv(\"DEFAULT_MODEL\", \"gpt-4o-mini\")\n",
    "MAX_TOKENS = int(os.getenv(\"MAX_TOKENS\", 1000))\n",
    "TEMPERATURE = float(os.getenv(\"TEMPERATURE\", 0.7))\n",
    "\n",
    "print(f\"Model: {MODEL}\")\n",
    "print(f\"Max tokens: {MAX_TOKENS}\")\n",
    "print(f\"Temperature: {TEMPERATURE}\")\n"
   ]
  },
  {
   "cell_type": "code",
   "execution_count": 2,
   "metadata": {},
   "outputs": [
    {
     "name": "stdout",
     "output_type": "stream",
     "text": [
      "Inputs prepared. Ready to run the agent.\n"
     ]
    }
   ],
   "source": [
    "# Structured prompt inputs\n",
    "from pathlib import Path\n",
    "\n",
    "# Load CV from markdown to keep parity with COVER_LETTER.ipynb\n",
    "CV_PATH = Path(\"notebooks/assets/CV.md\")\n",
    "CV = CV_PATH.read_text(encoding=\"utf-8\") if CV_PATH.exists() else \"\"\n",
    "\n",
    "VACANCY = \"\"\"\n",
    "Frontend-разработчик — React\n",
    "#удаленка #офис #senior\n",
    "Компания: Т-Банк\n",
    "☑️Обязанности\n",
    "-Разрабатывать клиентские и внутренние интерфейсы и сопутствующие инструменты\n",
    "-Внедрять новые технологии и практики\n",
    "-Обучаться, совершенствовать свои знания и навыки\n",
    "\n",
    "☑️Требования\n",
    "-У вас есть опыт коммерческой разработки на React от 4-лет\n",
    "-Отлично знаете Javascript\n",
    "-Понимаете современный стек веб-разработки\n",
    "-Готовы работать в распределенной команде\n",
    "-Будет плюсом знание Typescript и опыт работы с ним, навык написания unit-тестов, опыт работы с Node.js, навык работы с CI/CD — GitLab\n",
    "Контакты: https://www.tbank.ru/career/it/front-end-razrabotka/frontend-developer-react/\n",
    "\"\"\"\n",
    "\n",
    "# Build agent instructions (system prompt) mirroring COVER_LETTER.ipynb\n",
    "INSTRUCTIONS = \"\"\"\n",
    "Ты эксперт по составлению сопроводительных писем с 10+ летним опытом работы в HR и рекрутменте. \n",
    "Твоя задача — создавать персонализированные, убедительные и релевантные сопроводительные письма, \n",
    "которые максимально точно соответствуют требованиям конкретной вакансии и подчеркивают сильные стороны кандидата.\n",
    "\n",
    "Работай по структуре и правилам:\n",
    "- Заголовок: \"Отклик на вакансию [Название должности] - [Имя кандидата]\"\n",
    "- Приветствие (1 предложение), краткое представление и позиция\n",
    "- Основная часть (2 предложения): конкретные навыки из вакансии, примеры опыта, количественные результаты\n",
    "- Заключение (1 предложение): заинтересованность, готовность к собеседованию, вежливое завершение\n",
    "- Подпись: контакты\n",
    "\n",
    "Стиль: формально, уверенно, конкретно, кратко (300–600 знаков).\n",
    "Избегай фраз, начинающихся с \"Я\"; избегай клише и длинных предложений.\n",
    "Используй ключевые слова вакансии, добавляй цифры и результаты.\n",
    "Не переносить опыт Tekara и Хроника на другие компании.\n",
    "\n",
    "Входные данные ниже в теге resume и vacancy. Верни результат строго в формате:\n",
    "```\n",
    "**Тема:**\n",
    "[Тема письма]\n",
    "\n",
    "**Текст письма:**\n",
    "[Полный текст сопроводительного письма]\n",
    "```\n",
    "\"\"\"\n",
    "\n",
    "# Compose the user input that the agent will receive\n",
    "USER_INPUT = f\"\"\"\n",
    "<resume>\n",
    "{CV}\n",
    "</resume>\n",
    "\n",
    "<vacancy>\n",
    "{VACANCY}\n",
    "</vacancy>\n",
    "\"\"\"\n",
    "\n",
    "print(\"Inputs prepared. Ready to run the agent.\")"
   ]
  },
  {
   "cell_type": "code",
   "execution_count": 3,
   "metadata": {},
   "outputs": [
    {
     "data": {
      "text/markdown": [
       "```\n",
       "**Тема:**\n",
       "Отклик на вакансию Frontend-разработчик — React - [Имя кандидата]\n",
       "\n",
       "**Текст письма:**\n",
       "Уважаемые представители Т-Банк, обращаюсь по поводу вакансии Frontend-разработчика. Обладаю более 5 лет опыта в коммерческой разработке на React и отличными знаниями Javascript, что позволяет создавать высококачественные клиентские интерфейсы.\n",
       "\n",
       "В своей предыдущей работе внедрил новые технологии, что увеличило производительность команды на 30%. Также имею опыт работы с Typescript и CI/CD — GitLab, что дополнительно улучшает качество разработки. Готов к обучению и совершенствованию навыков в распределенной команде.\n",
       "\n",
       "С нетерпением жду возможности обсудить свою кандидатуру на собеседовании. Спасибо за внимание.\n",
       "\n",
       "С уважением,  \n",
       "[Имя кандидата]  \n",
       "[Телефон]  \n",
       "[Email]\n",
       "```"
      ],
      "text/plain": [
       "<IPython.core.display.Markdown object>"
      ]
     },
     "metadata": {},
     "output_type": "display_data"
    },
    {
     "name": "stderr",
     "output_type": "stream",
     "text": [
      "Warning: gpt-4o may update over time. Returning num tokens assuming gpt-4o-2024-05-13.\n"
     ]
    },
    {
     "name": "stdout",
     "output_type": "stream",
     "text": [
      "Total cost (USD): $0.000149\n"
     ]
    }
   ],
   "source": [
    "# Build a cover letter agent using OpenAI Agents SDK\n",
    "from agents.extensions.handoff_prompt import prompt_with_handoff_instructions\n",
    "\n",
    "cover_letter_agent = Agent(\n",
    "    name=\"Cover Letter Agent\",\n",
    "    instructions=prompt_with_handoff_instructions(INSTRUCTIONS),\n",
    "    model=MODEL,\n",
    "    model_settings=ModelSettings(\n",
    "        temperature=TEMPERATURE,\n",
    "        max_tokens=MAX_TOKENS,\n",
    "    ),\n",
    ")\n",
    "\n",
    "# Optional persistent memory between runs\n",
    "session = SQLiteSession(\"cover_letter_session\")\n",
    "\n",
    "# Run the agent\n",
    "try:\n",
    "    result = await Runner.run(\n",
    "        starting_agent=cover_letter_agent,\n",
    "        input=USER_INPUT,\n",
    "        session=session,\n",
    "    )\n",
    "\n",
    "    answer = result.final_output\n",
    "    display(Markdown(answer))\n",
    "\n",
    "    # Naive cost estimation using tokencost, aligned with your other notebook conventions\n",
    "    try:\n",
    "        messages = [{\"role\": \"user\", \"content\": USER_INPUT}]\n",
    "        prompt_cost = calculate_prompt_cost(messages, MODEL)\n",
    "        completion_cost = calculate_completion_cost(answer, MODEL)\n",
    "        print(f\"Total cost (USD): ${prompt_cost + completion_cost:.6f}\")\n",
    "    except Exception as cost_error:\n",
    "        print(f\"Could not calculate cost: {cost_error}\")\n",
    "\n",
    "except Exception as e:\n",
    "    print(f\"❌ Error: {e}\")\n",
    "    print(\"Make sure your OPENAI_API_KEY is set in .env file\")\n"
   ]
  }
 ],
 "metadata": {
  "kernelspec": {
   "display_name": ".venv",
   "language": "python",
   "name": "python3"
  },
  "language_info": {
   "codemirror_mode": {
    "name": "ipython",
    "version": 3
   },
   "file_extension": ".py",
   "mimetype": "text/x-python",
   "name": "python",
   "nbconvert_exporter": "python",
   "pygments_lexer": "ipython3",
   "version": "3.13.7"
  }
 },
 "nbformat": 4,
 "nbformat_minor": 4
}
